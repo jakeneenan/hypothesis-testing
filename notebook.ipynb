{
 "cells": [
  {
   "cell_type": "code",
   "execution_count": 14,
   "metadata": {},
   "outputs": [
    {
     "name": "stdout",
     "output_type": "stream",
     "text": [
      "The rpy2.ipython extension is already loaded. To reload it, use:\n",
      "  %reload_ext rpy2.ipython\n",
      "The autoreload extension is already loaded. To reload it, use:\n",
      "  %reload_ext autoreload\n"
     ]
    }
   ],
   "source": [
    "%load_ext rpy2.ipython\n",
    "%load_ext autoreload\n",
    "%autoreload 2\n",
    "\n",
    "%matplotlib inline  \n",
    "from matplotlib import rcParams\n",
    "rcParams['figure.figsize'] = (16, 100)\n",
    "\n",
    "import warnings\n",
    "from rpy2.rinterface import RRuntimeWarning\n",
    "\n",
    "import pandas as pd\n",
    "import numpy as np\n",
    "import matplotlib.pyplot as plt\n",
    "from IPython.display import display, HTML\n"
   ]
  },
  {
   "attachments": {},
   "cell_type": "markdown",
   "metadata": {},
   "source": [
    "### For a data studio project, I looked at Boston Police Department disciplinary records from 2011-2021. It's well known the Department has an accountability problem, and I wanted to create visualizations to examine this from a new angle. I wanted to know, are officers who are consistently refferred to internal affairs and found guilty less likely to receive a promotion over the course of their career? But this is hard to work out with visuals! Most of the work was doing calculations so I knew my conclusions were solid and then making charts that had more aesthetic than informative value.\n"
   ]
  },
  {
   "attachments": {},
   "cell_type": "markdown",
   "metadata": {},
   "source": [
    "\n",
    "### I found that the answer was not really. The proportions of officers getting one, two, three, or even more promotions was essentially the same for groups with any number of allegations and any number of guilty verdicts. At least, it ~looked~ like that was the case. But maybe the one or two percentage point differences were meaningful. To investigate, I'll use an ANOVA test because there are several distributions that need to be investigated (one for each possible number of allegations/guilty findings). I'm treating them as categorical because in practice, officers tend to "
   ]
  },
  {
   "attachments": {},
   "cell_type": "markdown",
   "metadata": {},
   "source": [
    "### The null hypotheses here are that for each group composed of officers with a specific number of promotions, the distributions of allegations are the same and the distributions of sustained allegations are the same. The alternative hypothesis would be that the distribution of promotions is different for at least one number of promotions."
   ]
  },
  {
   "cell_type": "code",
   "execution_count": 15,
   "metadata": {},
   "outputs": [
    {
     "data": {
      "text/html": [
       "<div>\n",
       "<style scoped>\n",
       "    .dataframe tbody tr th:only-of-type {\n",
       "        vertical-align: middle;\n",
       "    }\n",
       "\n",
       "    .dataframe tbody tr th {\n",
       "        vertical-align: top;\n",
       "    }\n",
       "\n",
       "    .dataframe thead th {\n",
       "        text-align: right;\n",
       "    }\n",
       "</style>\n",
       "<table border=\"1\" class=\"dataframe\">\n",
       "  <thead>\n",
       "    <tr style=\"text-align: right;\">\n",
       "      <th></th>\n",
       "      <th>name</th>\n",
       "      <th>department_name</th>\n",
       "      <th>title</th>\n",
       "      <th>regular</th>\n",
       "      <th>retro</th>\n",
       "      <th>other</th>\n",
       "      <th>overtime</th>\n",
       "      <th>injured</th>\n",
       "      <th>detail</th>\n",
       "      <th>quinn</th>\n",
       "      <th>total_earnings</th>\n",
       "      <th>zip</th>\n",
       "      <th>year</th>\n",
       "      <th>allegations</th>\n",
       "      <th>sustained</th>\n",
       "      <th>promotion</th>\n",
       "    </tr>\n",
       "  </thead>\n",
       "  <tbody>\n",
       "    <tr>\n",
       "      <th>0</th>\n",
       "      <td>abascianojoseph</td>\n",
       "      <td>Boston Police Department</td>\n",
       "      <td>Police Officer</td>\n",
       "      <td>$68181.24</td>\n",
       "      <td>$0.00</td>\n",
       "      <td>$3763.50</td>\n",
       "      <td>$14177.65</td>\n",
       "      <td>$0.00</td>\n",
       "      <td>$4867.00</td>\n",
       "      <td>$0.00</td>\n",
       "      <td>90989.39</td>\n",
       "      <td>02132-3802</td>\n",
       "      <td>2011</td>\n",
       "      <td>2</td>\n",
       "      <td>0</td>\n",
       "      <td>0</td>\n",
       "    </tr>\n",
       "    <tr>\n",
       "      <th>1</th>\n",
       "      <td>abascianojoseph</td>\n",
       "      <td>Boston Police Department</td>\n",
       "      <td>Police Officer</td>\n",
       "      <td>$69432.97</td>\n",
       "      <td>$0.00</td>\n",
       "      <td>$800.00</td>\n",
       "      <td>$16767.14</td>\n",
       "      <td>$0.00</td>\n",
       "      <td>$1767.00</td>\n",
       "      <td>$0.00</td>\n",
       "      <td>88767.11</td>\n",
       "      <td>02132-3802</td>\n",
       "      <td>2012</td>\n",
       "      <td>0</td>\n",
       "      <td>0</td>\n",
       "      <td>0</td>\n",
       "    </tr>\n",
       "    <tr>\n",
       "      <th>2</th>\n",
       "      <td>abascianojoseph</td>\n",
       "      <td>Boston Police Department</td>\n",
       "      <td>Police Officer</td>\n",
       "      <td>$66673.45</td>\n",
       "      <td>$0.00</td>\n",
       "      <td>$800.00</td>\n",
       "      <td>$20318.50</td>\n",
       "      <td>$3163.30</td>\n",
       "      <td>$890.00</td>\n",
       "      <td>$0.00</td>\n",
       "      <td>91845.25</td>\n",
       "      <td>02132-3802</td>\n",
       "      <td>2013</td>\n",
       "      <td>1</td>\n",
       "      <td>0</td>\n",
       "      <td>0</td>\n",
       "    </tr>\n",
       "    <tr>\n",
       "      <th>3</th>\n",
       "      <td>abascianojoseph</td>\n",
       "      <td>Boston Police Department</td>\n",
       "      <td>Police Officer</td>\n",
       "      <td>$19469.90</td>\n",
       "      <td>$10200.36</td>\n",
       "      <td>$1491.24</td>\n",
       "      <td>$2565.64</td>\n",
       "      <td>$60753.78</td>\n",
       "      <td>$2553.00</td>\n",
       "      <td>$825.04</td>\n",
       "      <td>97858.96</td>\n",
       "      <td>02132</td>\n",
       "      <td>2014</td>\n",
       "      <td>0</td>\n",
       "      <td>0</td>\n",
       "      <td>0</td>\n",
       "    </tr>\n",
       "    <tr>\n",
       "      <th>4</th>\n",
       "      <td>abascianojoseph</td>\n",
       "      <td>Boston Police Department</td>\n",
       "      <td>Police Officer</td>\n",
       "      <td>$-886.20</td>\n",
       "      <td>$0.00</td>\n",
       "      <td>$8088.35</td>\n",
       "      <td>$544.83</td>\n",
       "      <td>$81996.78</td>\n",
       "      <td>$0.00</td>\n",
       "      <td>$20667.80</td>\n",
       "      <td>110411.56</td>\n",
       "      <td>02132</td>\n",
       "      <td>2015</td>\n",
       "      <td>0</td>\n",
       "      <td>0</td>\n",
       "      <td>0</td>\n",
       "    </tr>\n",
       "  </tbody>\n",
       "</table>\n",
       "</div>"
      ],
      "text/plain": [
       "              name           department_name           title    regular  \\\n",
       "0  abascianojoseph  Boston Police Department  Police Officer  $68181.24   \n",
       "1  abascianojoseph  Boston Police Department  Police Officer  $69432.97   \n",
       "2  abascianojoseph  Boston Police Department  Police Officer  $66673.45   \n",
       "3  abascianojoseph  Boston Police Department  Police Officer  $19469.90   \n",
       "4  abascianojoseph  Boston Police Department  Police Officer   $-886.20   \n",
       "\n",
       "       retro     other   overtime    injured    detail      quinn  \\\n",
       "0      $0.00  $3763.50  $14177.65      $0.00  $4867.00      $0.00   \n",
       "1      $0.00   $800.00  $16767.14      $0.00  $1767.00      $0.00   \n",
       "2      $0.00   $800.00  $20318.50   $3163.30   $890.00      $0.00   \n",
       "3  $10200.36  $1491.24   $2565.64  $60753.78  $2553.00    $825.04   \n",
       "4      $0.00  $8088.35    $544.83  $81996.78     $0.00  $20667.80   \n",
       "\n",
       "   total_earnings         zip  year  allegations  sustained  promotion  \n",
       "0        90989.39  02132-3802  2011            2          0          0  \n",
       "1        88767.11  02132-3802  2012            0          0          0  \n",
       "2        91845.25  02132-3802  2013            1          0          0  \n",
       "3        97858.96       02132  2014            0          0          0  \n",
       "4       110411.56       02132  2015            0          0          0  "
      ]
     },
     "execution_count": 15,
     "metadata": {},
     "output_type": "execute_result"
    }
   ],
   "source": [
    "df = pd.read_csv('bpd.csv')\n",
    "df.head()"
   ]
  },
  {
   "cell_type": "code",
   "execution_count": 16,
   "metadata": {},
   "outputs": [
    {
     "data": {
      "text/html": [
       "<div>\n",
       "<style scoped>\n",
       "    .dataframe tbody tr th:only-of-type {\n",
       "        vertical-align: middle;\n",
       "    }\n",
       "\n",
       "    .dataframe tbody tr th {\n",
       "        vertical-align: top;\n",
       "    }\n",
       "\n",
       "    .dataframe thead th {\n",
       "        text-align: right;\n",
       "    }\n",
       "</style>\n",
       "<table border=\"1\" class=\"dataframe\">\n",
       "  <thead>\n",
       "    <tr style=\"text-align: right;\">\n",
       "      <th></th>\n",
       "      <th>name</th>\n",
       "      <th>allegations</th>\n",
       "      <th>promotions</th>\n",
       "      <th>sustained</th>\n",
       "    </tr>\n",
       "  </thead>\n",
       "  <tbody>\n",
       "    <tr>\n",
       "      <th>0</th>\n",
       "      <td>abascianojoseph</td>\n",
       "      <td>4</td>\n",
       "      <td>0</td>\n",
       "      <td>0</td>\n",
       "    </tr>\n",
       "    <tr>\n",
       "      <th>1</th>\n",
       "      <td>abdul-azizramadani</td>\n",
       "      <td>2</td>\n",
       "      <td>0</td>\n",
       "      <td>2</td>\n",
       "    </tr>\n",
       "    <tr>\n",
       "      <th>2</th>\n",
       "      <td>abreucesar</td>\n",
       "      <td>4</td>\n",
       "      <td>0</td>\n",
       "      <td>0</td>\n",
       "    </tr>\n",
       "    <tr>\n",
       "      <th>3</th>\n",
       "      <td>acerichardk</td>\n",
       "      <td>15</td>\n",
       "      <td>1</td>\n",
       "      <td>7</td>\n",
       "    </tr>\n",
       "    <tr>\n",
       "      <th>4</th>\n",
       "      <td>acevedorafaelw</td>\n",
       "      <td>0</td>\n",
       "      <td>0</td>\n",
       "      <td>0</td>\n",
       "    </tr>\n",
       "  </tbody>\n",
       "</table>\n",
       "</div>"
      ],
      "text/plain": [
       "                 name  allegations  promotions  sustained\n",
       "0     abascianojoseph            4           0          0\n",
       "1  abdul-azizramadani            2           0          2\n",
       "2          abreucesar            4           0          0\n",
       "3         acerichardk           15           1          7\n",
       "4      acevedorafaelw            0           0          0"
      ]
     },
     "execution_count": 16,
     "metadata": {},
     "output_type": "execute_result"
    }
   ],
   "source": [
    "# Putting the data we care about into a separate dataframe\n",
    "\n",
    "names = df.name.unique()\n",
    "allegations = df.groupby('name').allegations.sum().values\n",
    "promotions = df.groupby('name').promotion.sum().values\n",
    "sustained = df.groupby('name').sustained.sum().values\n",
    "\n",
    "summary_df = pd.DataFrame({'name': names, 'allegations': allegations, 'promotions': promotions, 'sustained': sustained})\n",
    "summary_df.head()"
   ]
  },
  {
   "cell_type": "code",
   "execution_count": 30,
   "metadata": {},
   "outputs": [
    {
     "name": "stdout",
     "output_type": "stream",
     "text": [
      "              Df Sum Sq Mean Sq F value Pr(>F)\n",
      "promotions     1      0   0.214   0.045  0.831\n",
      "Residuals   3277  15430   4.709               \n"
     ]
    }
   ],
   "source": [
    "%%R -i summary_df\n",
    "\n",
    "# First ANOVA\n",
    "\n",
    "summary(aov(sustained ~ promotions, data = summary_df))\n",
    "\n"
   ]
  },
  {
   "cell_type": "code",
   "execution_count": 31,
   "metadata": {},
   "outputs": [
    {
     "data": {
      "image/png": "[encoded data removed]"
     },
     "metadata": {},
     "output_type": "display_data"
    }
   ],
   "source": [
    "%%R -i summary_df\n",
    "\n",
    "library(ggplot2)\n",
    "library(dplyr)\n",
    "\n",
    "#Plotting the data\n",
    "\n",
    "ggplot(summary_df, aes(x = promotions, y = sustained)) + geom_point(alpha = 0.3) +\n",
    "geom_point(data = summary_df %>% group_by(promotions) %>% summarise(sustained = mean(sustained)), size = 3, color = 'red') "
   ]
  },
  {
   "cell_type": "code",
   "execution_count": 32,
   "metadata": {},
   "outputs": [
    {
     "name": "stdout",
     "output_type": "stream",
     "text": [
      "              Df Sum Sq Mean Sq F value   Pr(>F)    \n",
      "promotions     1    304   304.4   25.37 4.99e-07 ***\n",
      "Residuals   3277  39327    12.0                     \n",
      "---\n",
      "Signif. codes:  0 ‘***’ 0.001 ‘**’ 0.01 ‘*’ 0.05 ‘.’ 0.1 ‘ ’ 1\n"
     ]
    }
   ],
   "source": [
    "%%R -i summary_df\n",
    "\n",
    "# Second ANOVA\n",
    "summary(aov(allegations ~ promotions, data = summary_df))"
   ]
  },
  {
   "cell_type": "code",
   "execution_count": 33,
   "metadata": {},
   "outputs": [
    {
     "data": {
      "image/png": "[encoded data removed]"
     },
     "metadata": {},
     "output_type": "display_data"
    }
   ],
   "source": [
    "%%R -i summary_df\n",
    "\n",
    "library(ggplot2)\n",
    "library(dplyr)\n",
    "\n",
    "#Plotting the data\n",
    "\n",
    "ggplot(summary_df, aes(x = promotions, y = allegations)) + geom_point(alpha = 0.3) +\n",
    "geom_point(data = summary_df %>% group_by(promotions) %>% summarise(allegations = mean(allegations)), size = 3, color = 'red') "
   ]
  },
  {
   "attachments": {},
   "cell_type": "markdown",
   "metadata": {},
   "source": [
    "### So! Looks like the null hypothesis for sustained allegations can't be rejected. But at least one number of promotions an officer received corresponds to its own distribution of allegations."
   ]
  },
  {
   "cell_type": "code",
   "execution_count": 21,
   "metadata": {},
   "outputs": [
    {
     "data": {
      "image/png": "[encoded data removed]"
     },
     "metadata": {},
     "output_type": "display_data"
    }
   ],
   "source": [
    "%%R -i summary_df\n",
    "\n",
    "# Zooming in\n",
    "\n",
    "library(ggplot2)\n",
    "library(dplyr)\n",
    "\n",
    "ggplot(summary_df, aes(x = promotions, y = sustained)) + geom_point(alpha = 0.3) +\n",
    "geom_point(data = summary_df %>% group_by(promotions) %>% summarise(sustained = mean(sustained)), size = 3, color = 'red') +\n",
    "ylim(0, 10)"
   ]
  },
  {
   "attachments": {},
   "cell_type": "markdown",
   "metadata": {},
   "source": [
    "### It's not super clear which one (or ones) of these is different, so I'll use a Tukey HSD test."
   ]
  },
  {
   "cell_type": "code",
   "execution_count": null,
   "metadata": {},
   "outputs": [
    {
     "name": "stdout",
     "output_type": "stream",
     "text": [
      "  Tukey multiple comparisons of means\n",
      "    95% family-wise confidence level\n",
      "\n",
      "Fit: aov(formula = allegations ~ factor(promotions), data = summary_df)\n",
      "\n",
      "$`factor(promotions)`\n",
      "          diff         lwr        upr     p adj\n",
      "1-0  0.9864884   0.5333055  1.4396713 0.0000000\n",
      "2-0  0.5980991  -0.2176781  1.4138763 0.2923838\n",
      "3-0  0.2991338  -1.0686898  1.6669573 0.9893223\n",
      "4-0  3.7142281  -0.6967029  8.1251592 0.1560508\n",
      "5-0  1.7142281  -8.1409753 11.5694316 0.9963266\n",
      "2-1 -0.3883893  -1.2786722  0.5018936 0.8151079\n",
      "3-1 -0.6873546  -2.1008795  0.7261702 0.7352339\n",
      "4-1  2.7277397  -1.6975765  7.1530560 0.4936127\n",
      "5-1  0.7277397  -9.1339106 10.5893900 0.9999436\n",
      "3-2 -0.2989653  -1.8668206  1.2688900 0.9943394\n",
      "4-2  3.1161290  -1.3608724  7.5931304 0.3513012\n",
      "5-2  1.1161290  -8.7688224 11.0010804 0.9995421\n",
      "4-3  3.4150943  -1.1945684  8.0247570 0.2809231\n",
      "5-3  1.4150943  -8.5306441 11.3608328 0.9985934\n",
      "5-4 -2.0000000 -12.7936595  8.7936595 0.9950512\n",
      "\n"
     ]
    }
   ],
   "source": [
    "%%R -i summary_df\n",
    "\n",
    "TukeyHSD(aov(allegations ~ factor(promotions), data = summary_df))"
   ]
  },
  {
   "attachments": {},
   "cell_type": "markdown",
   "metadata": {},
   "source": [
    "### The difference between the mean allegations of officers with one promotion and those with no promotions is significant. I'll use a t test to interrogate that further"
   ]
  },
  {
   "cell_type": "code",
   "execution_count": 27,
   "metadata": {},
   "outputs": [],
   "source": [
    "promotions0 = summary_df[summary_df.promotions == 0]\n",
    "promotions1 = summary_df[summary_df.promotions == 1]\n",
    "promotions2 = summary_df[summary_df.promotions == 2]\n",
    "promotions3 = summary_df[summary_df.promotions == 3]\n",
    "promotions4 = summary_df[summary_df.promotions == 4]"
   ]
  },
  {
   "cell_type": "code",
   "execution_count": 34,
   "metadata": {},
   "outputs": [
    {
     "name": "stdout",
     "output_type": "stream",
     "text": [
      "\n",
      "\tWelch Two Sample t-test\n",
      "\n",
      "data:  promotions0$allegations and promotions1$allegations\n",
      "t = -5.6043, df = 790.8, p-value = 2.888e-08\n",
      "alternative hypothesis: true difference in means is not equal to 0\n",
      "95 percent confidence interval:\n",
      " -1.3320163 -0.6409606\n",
      "sample estimates:\n",
      "mean of x mean of y \n",
      " 1.285772  2.272260 \n",
      "\n"
     ]
    }
   ],
   "source": [
    "%%R -i promotions0 -i promotions1\n",
    "\n",
    "t.test(promotions0$allegations, promotions1$allegations)\n"
   ]
  },
  {
   "attachments": {},
   "cell_type": "markdown",
   "metadata": {},
   "source": [
    "### So, the mean number of allegations for officers with one promotion is about one allegation more than those with no promotions, and this is statistically significant. I hesitate to use a regression, because this is more categorical than continuous data, but I'm curious what the R-squared is. "
   ]
  },
  {
   "cell_type": "code",
   "execution_count": 42,
   "metadata": {},
   "outputs": [],
   "source": [
    "test_df = summary_df[summary_df.promotions < 2]"
   ]
  },
  {
   "cell_type": "code",
   "execution_count": 43,
   "metadata": {},
   "outputs": [
    {
     "name": "stdout",
     "output_type": "stream",
     "text": [
      "`geom_smooth()` using formula = 'y ~ x'\n"
     ]
    },
    {
     "data": {
      "image/png": "[encoded data removed]"
     },
     "metadata": {},
     "output_type": "display_data"
    }
   ],
   "source": [
    "%%R -i test_df\n",
    "\n",
    "# plotting a linear model\n",
    "\n",
    "ggplot(test_df, aes(x = promotions, y = allegations)) + geom_point(alpha = 0.3) +\n",
    "geom_smooth(method = 'lm')"
   ]
  },
  {
   "cell_type": "code",
   "execution_count": 44,
   "metadata": {},
   "outputs": [
    {
     "name": "stdout",
     "output_type": "stream",
     "text": [
      "\n",
      "Call:\n",
      "lm(formula = allegations ~ promotions, data = summary_df)\n",
      "\n",
      "Residuals:\n",
      "   Min     1Q Median     3Q    Max \n",
      "-3.194 -1.349 -1.349  0.190 63.651 \n",
      "\n",
      "Coefficients:\n",
      "            Estimate Std. Error t value Pr(>|t|)    \n",
      "(Intercept)  1.34916    0.06757  19.966  < 2e-16 ***\n",
      "promotions   0.46115    0.09156   5.037 4.99e-07 ***\n",
      "---\n",
      "Signif. codes:  0 ‘***’ 0.001 ‘**’ 0.01 ‘*’ 0.05 ‘.’ 0.1 ‘ ’ 1\n",
      "\n",
      "Residual standard error: 3.464 on 3277 degrees of freedom\n",
      "Multiple R-squared:  0.007682,\tAdjusted R-squared:  0.007379 \n",
      "F-statistic: 25.37 on 1 and 3277 DF,  p-value: 4.994e-07\n",
      "\n"
     ]
    }
   ],
   "source": [
    "%%R -i test_df\n",
    "\n",
    "summary(lm(allegations ~ promotions, data = summary_df))"
   ]
  },
  {
   "attachments": {},
   "cell_type": "markdown",
   "metadata": {},
   "source": [
    "### So the R-squared is small, meaning that while the average means are significantly different for the two groups, an officers number of promotions doesn't explain a lot of the variance in the allegation distribution."
   ]
  },
  {
   "attachments": {},
   "cell_type": "markdown",
   "metadata": {},
   "source": [
    "### Going back to journalistic inquiry, I think it's interesting that there isn't statistical evidence that the BPD's promotion practices weed out officers who the Department itself finds guilty of misconduct. It would be interesting to request copies of the criteria they use to promote officers.\n",
    "\n",
    "### As far as the significant difference in allegations between officers with one and no promotions, I'm thinking that has something to do with an officer's time on the force: the longer you're around, the more likely you are to both be promoted and be accused of misconduct. But, the R-squared is so low it's probably not worth further inquiry.\n",
    "\n",
    "### I'd like to figure out a way to control for things like someone's time on the force when doing this, but I think that's coming up tomorrow, lol."
   ]
  }
 ],
 "metadata": {
  "kernelspec": {
   "display_name": "Python 3",
   "language": "python",
   "name": "python3"
  },
  "language_info": {
   "codemirror_mode": {
    "name": "ipython",
    "version": 3
   },
   "file_extension": ".py",
   "mimetype": "text/x-python",
   "name": "python",
   "nbconvert_exporter": "python",
   "pygments_lexer": "ipython3",
   "version": "3.10.9"
  },
  "orig_nbformat": 4
 },
 "nbformat": 4,
 "nbformat_minor": 2
}
